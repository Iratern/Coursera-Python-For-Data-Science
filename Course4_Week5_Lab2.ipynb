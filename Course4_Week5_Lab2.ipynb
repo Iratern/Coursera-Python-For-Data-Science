{
 "cells": [
  {
   "cell_type": "code",
   "execution_count": null,
   "metadata": {},
   "outputs": [],
   "source": [
    "pip install pycoingecko\n",
    "!pip install plotly\n",
    "!pip install mplfinance"
   ]
  },
  {
   "cell_type": "code",
   "execution_count": null,
   "metadata": {},
   "outputs": [],
   "source": []
  },
  {
   "cell_type": "code",
   "execution_count": null,
   "metadata": {},
   "outputs": [],
   "source": []
  },
  {
   "cell_type": "code",
   "execution_count": null,
   "metadata": {},
   "outputs": [],
   "source": []
  },
  {
   "cell_type": "code",
   "execution_count": 1,
   "metadata": {},
   "outputs": [
    {
     "name": "stdout",
     "output_type": "stream",
     "text": [
      "Requirement already satisfied: ibm_watson in d:\\programs\\anaconda\\lib\\site-packages (5.1.0)\n",
      "Requirement already satisfied: wget in d:\\programs\\anaconda\\lib\\site-packages (3.2)\n",
      "Requirement already satisfied: ibm-cloud-sdk-core>=3.3.6 in d:\\programs\\anaconda\\lib\\site-packages (from ibm_watson) (3.9.0)\n",
      "Requirement already satisfied: websocket-client==0.48.0 in d:\\programs\\anaconda\\lib\\site-packages (from ibm_watson) (0.48.0)\n",
      "Requirement already satisfied: python-dateutil>=2.5.3 in d:\\programs\\anaconda\\lib\\site-packages (from ibm_watson) (2.8.1)\n",
      "Requirement already satisfied: requests<3.0,>=2.0 in d:\\programs\\anaconda\\lib\\site-packages (from ibm_watson) (2.24.0)\n",
      "Requirement already satisfied: PyJWT<3.0.0,>=2.0.1 in d:\\programs\\anaconda\\lib\\site-packages (from ibm-cloud-sdk-core>=3.3.6->ibm_watson) (2.0.1)\n",
      "Requirement already satisfied: six in d:\\programs\\anaconda\\lib\\site-packages (from websocket-client==0.48.0->ibm_watson) (1.15.0)\n",
      "Requirement already satisfied: idna<3,>=2.5 in d:\\programs\\anaconda\\lib\\site-packages (from requests<3.0,>=2.0->ibm_watson) (2.10)\n",
      "Requirement already satisfied: urllib3!=1.25.0,!=1.25.1,<1.26,>=1.21.1 in d:\\programs\\anaconda\\lib\\site-packages (from requests<3.0,>=2.0->ibm_watson) (1.25.11)\n",
      "Requirement already satisfied: chardet<4,>=3.0.2 in d:\\programs\\anaconda\\lib\\site-packages (from requests<3.0,>=2.0->ibm_watson) (3.0.4)\n",
      "Requirement already satisfied: certifi>=2017.4.17 in d:\\programs\\anaconda\\lib\\site-packages (from requests<3.0,>=2.0->ibm_watson) (2020.6.20)\n"
     ]
    }
   ],
   "source": [
    "#In this notebook, you will learn to convert an audio file of an English speaker \n",
    "#to text using a Speech to Text API. \n",
    "#Then you will translate the English version to a Spanish version using a Language Translator API. \n",
    "#Note: You must obtain the API keys and enpoints to complete the lab.\n",
    "\n",
    "\n",
    "#you will need the following library \n",
    "!pip install ibm_watson wget"
   ]
  },
  {
   "cell_type": "code",
   "execution_count": null,
   "metadata": {},
   "outputs": [],
   "source": [
    "#First we import SpeechToTextV1 from ibm_watson.\n",
    "\n",
    "from ibm_watson import SpeechToTextV1 \n",
    "import json\n",
    "from ibm_cloud_sdk_core.authenticators import IAMAuthenticator"
   ]
  },
  {
   "cell_type": "code",
   "execution_count": null,
   "metadata": {},
   "outputs": [],
   "source": [
    "#The service endpoint is based on the location of the service instance, \n",
    "#we store the information in the variable URL. To find out which URL to use, \n",
    "#view the service credentials and paste the url here.\n",
    "\n",
    "\n",
    "url_s2t = \"https://api.us-south.speech-to-text.watson.cloud.ibm.com/instances/83ff186c-cf75-4f29-b918-b41dfaf70b0b\""
   ]
  },
  {
   "cell_type": "code",
   "execution_count": null,
   "metadata": {},
   "outputs": [],
   "source": [
    "#You require an API key, and you can obtain the key on the Dashboard .\n",
    "iam_apikey_s2t = \"7EPV6GfNK5S2_J9juGrMZ4OQIC9O40PLL0qpPJgs7Wt2\""
   ]
  },
  {
   "cell_type": "code",
   "execution_count": null,
   "metadata": {},
   "outputs": [],
   "source": [
    "#You create a Speech To Text Adapter object, the parameters are the endpoint and API key.\n",
    "\n",
    "authenticator = IAMAuthenticator(iam_apikey_s2t)\n",
    "s2t = SpeechToTextV1(authenticator=authenticator)\n",
    "s2t.set_service_url(url_s2t)\n",
    "s2t"
   ]
  },
  {
   "cell_type": "code",
   "execution_count": null,
   "metadata": {},
   "outputs": [],
   "source": [
    "#Lets download the audio file that we will use to convert into text. \n",
    "#Can also manually downlaod and put into same directory as this program\n",
    "\n",
    "!wget -O PolynomialRegressionandPipelines.mp3  https://cf-courses-data.s3.us.cloud-object-storage.appdomain.cloud/IBMDeveloperSkillsNetwork-PY0101EN-SkillsNetwork/labs/Module%205/data/PolynomialRegressionandPipelines.mp3"
   ]
  },
  {
   "cell_type": "code",
   "execution_count": null,
   "metadata": {},
   "outputs": [],
   "source": [
    "#We have the path of the wav file we would like to convert to text\n",
    "#If not in same directory as this program please use full file path\n",
    "\n",
    "filename='PolynomialRegressionandPipelines.mp3'"
   ]
  },
  {
   "cell_type": "code",
   "execution_count": null,
   "metadata": {},
   "outputs": [],
   "source": [
    "#We create the file object wav with the wav file using with/open ; \n",
    "#we set the mode to \"rb\", which is 'read in binary' mode \n",
    "#We use the method 'recognize' on the object s2t to return 'response' an object saving the Service response. \n",
    "#The parameter audio is the file object, wav\n",
    "#the parameter content_type is the format of the file, audio/mp3\n",
    "\n",
    "\n",
    "with open(filename, mode=\"rb\")  as wav:\n",
    "    response = s2t.recognize(audio=wav, content_type='audio/mp3')"
   ]
  },
  {
   "cell_type": "code",
   "execution_count": null,
   "metadata": {},
   "outputs": [],
   "source": [
    "#outputs python dictionary containing the results \n",
    "response.result"
   ]
  },
  {
   "cell_type": "code",
   "execution_count": null,
   "metadata": {},
   "outputs": [],
   "source": [
    "from pandas import json_normalize\n",
    "#Normalize semi-structured JSON data into a flat table. does not touch underlying data\n",
    "json_normalize(response.result['results'],\"alternatives\")"
   ]
  },
  {
   "cell_type": "code",
   "execution_count": null,
   "metadata": {},
   "outputs": [],
   "source": [
    "#object type is unchanged\n",
    "response.result"
   ]
  },
  {
   "cell_type": "code",
   "execution_count": null,
   "metadata": {},
   "outputs": [],
   "source": [
    "#save a particular string in thedictionary.\n",
    "#the 10 is the row index in which the string is located\n",
    "#we look under the results key and find a list with the entries (length 11 in this case)\n",
    "#we look at one of the values on the list (example index 10) and find a dictionary with 2 keys final and alternatives\n",
    "#alternatives is a single entry list, so we look at its 0th entry, which is a dictionary with 2 keys transcript and confidence\n",
    "#finally we lookup the value under the key transcipt: a string \n",
    "recognized_text=response.result['results'][10][\"alternatives\"][0][\"transcript\"]\n",
    "type(recognized_text)\n"
   ]
  },
  {
   "cell_type": "code",
   "execution_count": null,
   "metadata": {},
   "outputs": [],
   "source": [
    "recognized_text"
   ]
  },
  {
   "cell_type": "code",
   "execution_count": null,
   "metadata": {},
   "outputs": [],
   "source": [
    "#Language Translator\n",
    "#First we import LanguageTranslatorV3 from ibm_watson\n",
    "\n",
    "from ibm_watson import LanguageTranslatorV3"
   ]
  },
  {
   "cell_type": "code",
   "execution_count": null,
   "metadata": {},
   "outputs": [],
   "source": [
    "#The service endpoint is based on the location of the service instance, \n",
    "#we store the information in the variable URL. \n",
    "#To find out which URL to use, view the service credentials.\n",
    "\n",
    "url_lt='https://api.us-south.language-translator.watson.cloud.ibm.com/instances/4c6101bd-c1c3-45bc-8c20-9a98d4488c07'"
   ]
  },
  {
   "cell_type": "code",
   "execution_count": null,
   "metadata": {},
   "outputs": [],
   "source": [
    "#You require an API key, and you can obtain the key on the Dashboard.\n",
    "apikey_lt='TrFC8NDBKLyLJ28GR-vzhwRrvxsLNkJA5n5Yk-9fWxMv'"
   ]
  },
  {
   "cell_type": "code",
   "execution_count": null,
   "metadata": {},
   "outputs": [],
   "source": [
    "#API requests require a version parameter that takes a date in the format \n",
    "#version=YYYY-MM-DD. This lab describes the current version of Language Translator, \n",
    "#2018-05-01\n",
    "version_lt='2018-05-01'"
   ]
  },
  {
   "cell_type": "code",
   "execution_count": null,
   "metadata": {},
   "outputs": [],
   "source": [
    "#we create a Language Translator object, language_translator:\n",
    "authenticator = IAMAuthenticator(apikey_lt)\n",
    "language_translator = LanguageTranslatorV3(version=version_lt,authenticator=authenticator)\n",
    "language_translator.set_service_url(url_lt)\n",
    "language_translator"
   ]
  },
  {
   "cell_type": "code",
   "execution_count": null,
   "metadata": {
    "scrolled": false
   },
   "outputs": [],
   "source": [
    "#We can list the languages that the service can identify. \n",
    "#The method Returns the language code. For example English (en) to Spanis (es) \n",
    "#and name of each language.\n",
    "\n",
    "json_normalize(language_translator.list_identifiable_languages().get_result(), \"languages\")"
   ]
  },
  {
   "cell_type": "code",
   "execution_count": null,
   "metadata": {},
   "outputs": [],
   "source": [
    "#We can use the method translate this will translate the text. \n",
    "#The parameter text is the object name. Model_id are the languages we are translating from and to\n",
    "#In this case, we set it to 'en-es' or English to Spanish. \n",
    "#We get a 'Detailed Response' object, and name it 'translation_response'\n",
    "\n",
    "translation_response = language_translator.translate(text=recognized_text, model_id='en-es')\n",
    "type(translation_response)"
   ]
  },
  {
   "cell_type": "code",
   "execution_count": null,
   "metadata": {},
   "outputs": [],
   "source": [
    "#We use the get result method on the object -translation response- to get a dictionary. \n",
    "#The dictionary is saved to the variable translation\n",
    "\n",
    "translation=translation_response.get_result()\n",
    "\n",
    "translation"
   ]
  },
  {
   "cell_type": "code",
   "execution_count": null,
   "metadata": {},
   "outputs": [],
   "source": [
    "type(translation)"
   ]
  },
  {
   "cell_type": "code",
   "execution_count": null,
   "metadata": {},
   "outputs": [],
   "source": [
    "#We can obtain the actual translation as a string as follows:\n",
    "#under translations key\n",
    "#indexed entry on the list\n",
    "#under the translation key is the string\n",
    "spanish_translation =translation['translations'][0]['translation']\n",
    "spanish_translation "
   ]
  },
  {
   "cell_type": "code",
   "execution_count": null,
   "metadata": {},
   "outputs": [],
   "source": [
    "#We can translate back to English\n",
    "translation_new = language_translator.translate(text=spanish_translation ,model_id='es-en').get_result()"
   ]
  },
  {
   "cell_type": "code",
   "execution_count": null,
   "metadata": {},
   "outputs": [],
   "source": [
    "#We can obtain the actual translation as a string as follows:\n",
    "translation_eng=translation_new['translations'][0]['translation']\n",
    "translation_eng"
   ]
  },
  {
   "cell_type": "code",
   "execution_count": null,
   "metadata": {},
   "outputs": [],
   "source": [
    "#QUIZ #Translate to French.\n",
    "\n",
    "French_translation=language_translator.translate(text=translation_eng , model_id='en-fr').get_result()\n",
    "\n",
    "French_translation['translations'][0]['translation']"
   ]
  },
  {
   "cell_type": "code",
   "execution_count": null,
   "metadata": {},
   "outputs": [],
   "source": []
  }
 ],
 "metadata": {
  "kernelspec": {
   "display_name": "Python 3",
   "language": "python",
   "name": "python3"
  },
  "language_info": {
   "codemirror_mode": {
    "name": "ipython",
    "version": 3
   },
   "file_extension": ".py",
   "mimetype": "text/x-python",
   "name": "python",
   "nbconvert_exporter": "python",
   "pygments_lexer": "ipython3",
   "version": "3.8.5"
  }
 },
 "nbformat": 4,
 "nbformat_minor": 5
}
